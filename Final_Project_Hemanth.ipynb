{
 "cells": [
  {
   "cell_type": "markdown",
   "id": "41dce970",
   "metadata": {},
   "source": [
    "<h3 style=\"text-align:center\">Data-690(Data Structures and Algorithms): Final Project</h3>\n",
    "<h3 style=\"text-align:center;color:red\">School Management System</h3>\n",
    "<br>\n",
    "<div style=\"text-align:center\">\n",
    "    <table style=\"text-align:center\">\n",
    "        <thead>\n",
    "            <tr>\n",
    "                <td><b>Name</b></td>\n",
    "                <td><b>Campus Id</b></td>\n",
    "            </tr>\n",
    "        </thead>\n",
    "        <tr>\n",
    "            <td>Hemanth</td>\n",
    "            <td>Tk76375</td>\n",
    "        </tr>\n",
    "    </table>\n",
    "</div>"
   ]
  },
  {
   "cell_type": "markdown",
   "id": "063ccfea",
   "metadata": {},
   "source": [
    "<h3>Summary</h3>\n",
    "Pick a project topic of your choice, provide explanation for the design (5 page PPT slide deck, plus 5 min video presentation) with the implementation using a Jupyter notebook that meets the following objectives. \n",
    "<h3>Objectives:</h3>\n",
    "<ul>\n",
    "    <li>Demonstrate your understanding of Object Oriented Programming (OOP)</li>\n",
    "    <li>Demonstrate your ability to leverage best performing searching and sorting techniques. </li>\n",
    "    <li>Explain the computational complexity of each searching and sorting implemented.</li>\n",
    "    <li>Do not use built-in Python sorting and searching algorithms.</li>\n",
    "    <li>Exception handling and testing</li>\n",
    "</ul>\n",
    "<h3>Further Instructions:</h3>\n",
    "<ul>\n",
    "    <li>You cannot use Pandas, NumPy, or any other non-standard Python libraries.</li>\n",
    "    <li>You cannot copy/use other’s work.</li>\n",
    "    <li>You don’t need to use a database.</li>\n",
    "    <li>You don’t need to implement an UI.</li>\n",
    "    <li>You don’t need to create a web application.</li>\n",
    "    <li>You need to include and run test cases</li>\n",
    "    <li>You need to demonstrate the working of your code.</li>\n",
    "    <li>The code will be submitted as a Jupyter notebook via Blackboard.</li>\n",
    "    <li>Your submitted code must be without any error and each cell must have run sequentially.</li>\n",
    "    <li>The video recording of the presentation must show your face.</li>\n",
    "</ul>"
   ]
  },
  {
   "cell_type": "markdown",
   "id": "a35e4250",
   "metadata": {},
   "source": [
    "<h4>Imports</h4>"
   ]
  },
  {
   "cell_type": "code",
   "execution_count": 1,
   "id": "87e3b886",
   "metadata": {
    "pycharm": {
     "name": "#%%\n"
    }
   },
   "outputs": [],
   "source": [
    "# Imports\n",
    "import csv"
   ]
  },
  {
   "cell_type": "code",
   "execution_count": 2,
   "id": "ac02e77d",
   "metadata": {},
   "outputs": [],
   "source": [
    "class Person:\n",
    "    def __init__(self, first_name, last_name, gender):\n",
    "        self.first_name = first_name\n",
    "        self.last_name = last_name\n",
    "        self.gender = gender\n",
    "    def __str__(self):\n",
    "        return f'First Name: {self.first_name}  Last Name: {self.last_name}'\n",
    "    def __repr__(self):\n",
    "        return f'First Name: {self.first_name}  Last Name: {self.last_name}'"
   ]
  },
  {
   "cell_type": "code",
   "execution_count": 3,
   "id": "b22d5458",
   "metadata": {},
   "outputs": [],
   "source": [
    "class Student(Person):\n",
    "    def __init__(self, first_name, last_name, roll_no, gender, clss):\n",
    "        super().__init__(first_name, last_name, gender)\n",
    "        self.roll_no = roll_no\n",
    "        self.clss = clss\n",
    "    def __repr__(self):\n",
    "        return f'First Name:{self.first_name}  Last Name: {self.last_name}  StudentId No: {self.roll_no}'"
   ]
  },
  {
   "cell_type": "code",
   "execution_count": 4,
   "id": "1b0d7f00",
   "metadata": {},
   "outputs": [],
   "source": [
    "class Course:\n",
    "    \n",
    "    def __init__(self, course_name):\n",
    "        self.course_name = course_name\n",
    "        self.students = []\n",
    "    \n",
    "    def addStudent(self, student):\n",
    "        if student is not None and type(student) == 'Student':\n",
    "            self.students.append()\n",
    "    \n",
    "    def addStudents(self):\n",
    "        pass\n",
    "\n",
    "    def __str__(self):\n",
    "        return f'Course Name: {self.course_name} Students Registered: {len(self.students)}'"
   ]
  },
  {
   "cell_type": "code",
   "execution_count": 5,
   "id": "97810503",
   "metadata": {},
   "outputs": [],
   "source": [
    "class School:\n",
    "    \n",
    "    def __init__(self, name, students=[], teachers=[]):\n",
    "        self.school_name = name\n",
    "        self.students = students\n",
    "        self.teachers = teachers\n",
    "        \n",
    "    def search_student_by_first_name(self):\n",
    "        print(\"Search by first name\")\n",
    "    \n",
    "    def search_students_by_last_name(self):\n",
    "        print(\"search student by last name\")\n",
    "        \n",
    "    def sort_students_by_id(self):\n",
    "        return \"sorted students by id\"\n",
    "    \n",
    "    def sort_students_by_first_name(self):\n",
    "        return \"sorted students by first name\"\n",
    "    \n",
    "    def sort_students_by_last_name(self):\n",
    "        return \"sorted students by last name\"\n",
    "        \n",
    "    def __repr__(self):\n",
    "        return f'School Name:{self.school_name}\\nTotal Students:{len(self.students)}\\nTotal Teachers: {len(self.teachers)}'\n",
    "    \n",
    "    def __str__(self):\n",
    "        return f'School Name:{self.school_name}\\nTotal Students:{len(self.students)}\\nTotal Teachers: {len(self.teachers)}'"
   ]
  },
  {
   "cell_type": "code",
   "execution_count": 6,
   "id": "432b0158",
   "metadata": {},
   "outputs": [],
   "source": [
    "# students = []\n",
    "# with open(\"MOCK_DATA.csv\") as mockdata:\n",
    "#     reader = csv.reader(mockdata, delimiter=',')\n",
    "#     next(reader)\n",
    "#     for row in reader:\n",
    "#         students.append(Student(row[0], row[1], row[2], row[3], row[4]))"
   ]
  },
  {
   "cell_type": "code",
   "execution_count": 17,
   "id": "ef4bbd47",
   "metadata": {
    "pycharm": {
     "name": "#%%\n"
    }
   },
   "outputs": [
    {
     "name": "stdout",
     "output_type": "stream",
     "text": [
      "\t\t\t\tMy Dummy School\n",
      "Options\n",
      "1. Add Student\n",
      "2. Delete Student\n",
      "3. Search Student by First Name\n",
      "4. Search Student\n",
      "5. Sort Students\n",
      "6. Exit\n",
      "Select an option:1\n",
      "\t\t\t\tMy Dummy School\n",
      "Options\n",
      "1. Add Student\n",
      "2. Delete Student\n",
      "3. Search Student by First Name\n",
      "4. Search Student\n",
      "5. Sort Students\n",
      "6. Exit\n"
     ]
    },
    {
     "ename": "KeyboardInterrupt",
     "evalue": "Interrupted by user",
     "output_type": "error",
     "traceback": [
      "\u001b[1;31m---------------------------------------------------------------------------\u001b[0m",
      "\u001b[1;31mKeyboardInterrupt\u001b[0m                         Traceback (most recent call last)",
      "\u001b[1;32m~\\AppData\\Local\\Temp/ipykernel_25492/2448559803.py\u001b[0m in \u001b[0;36m<module>\u001b[1;34m\u001b[0m\n\u001b[0;32m     13\u001b[0m         \u001b[0mprint\u001b[0m\u001b[1;33m(\u001b[0m\u001b[1;34m\"Options\"\u001b[0m\u001b[1;33m)\u001b[0m\u001b[1;33m\u001b[0m\u001b[1;33m\u001b[0m\u001b[0m\n\u001b[0;32m     14\u001b[0m         \u001b[0mprint\u001b[0m\u001b[1;33m(\u001b[0m\u001b[1;34m\"1. Add Student\\n2. Delete Student\\n3. Search Student by First Name\\n4. Search Student\\n5. Sort Students\\n6. Exit\"\u001b[0m\u001b[1;33m)\u001b[0m\u001b[1;33m\u001b[0m\u001b[1;33m\u001b[0m\u001b[0m\n\u001b[1;32m---> 15\u001b[1;33m         \u001b[0moption\u001b[0m \u001b[1;33m=\u001b[0m \u001b[0mint\u001b[0m\u001b[1;33m(\u001b[0m\u001b[0minput\u001b[0m\u001b[1;33m(\u001b[0m\u001b[1;34m\"Select an option:\"\u001b[0m\u001b[1;33m)\u001b[0m\u001b[1;33m)\u001b[0m\u001b[1;33m\u001b[0m\u001b[1;33m\u001b[0m\u001b[0m\n\u001b[0m\u001b[0;32m     16\u001b[0m         \u001b[1;32mif\u001b[0m \u001b[0moption\u001b[0m \u001b[1;33m==\u001b[0m \u001b[1;36m6\u001b[0m\u001b[1;33m:\u001b[0m\u001b[1;33m\u001b[0m\u001b[1;33m\u001b[0m\u001b[0m\n\u001b[0;32m     17\u001b[0m             \u001b[1;32mbreak\u001b[0m\u001b[1;33m\u001b[0m\u001b[1;33m\u001b[0m\u001b[0m\n",
      "\u001b[1;32mC:\\ProgramData\\Anaconda3\\lib\\site-packages\\ipykernel\\kernelbase.py\u001b[0m in \u001b[0;36mraw_input\u001b[1;34m(self, prompt)\u001b[0m\n\u001b[0;32m   1004\u001b[0m                 \u001b[1;34m\"raw_input was called, but this frontend does not support input requests.\"\u001b[0m\u001b[1;33m\u001b[0m\u001b[1;33m\u001b[0m\u001b[0m\n\u001b[0;32m   1005\u001b[0m             )\n\u001b[1;32m-> 1006\u001b[1;33m         return self._input_request(\n\u001b[0m\u001b[0;32m   1007\u001b[0m             \u001b[0mstr\u001b[0m\u001b[1;33m(\u001b[0m\u001b[0mprompt\u001b[0m\u001b[1;33m)\u001b[0m\u001b[1;33m,\u001b[0m\u001b[1;33m\u001b[0m\u001b[1;33m\u001b[0m\u001b[0m\n\u001b[0;32m   1008\u001b[0m             \u001b[0mself\u001b[0m\u001b[1;33m.\u001b[0m\u001b[0m_parent_ident\u001b[0m\u001b[1;33m[\u001b[0m\u001b[1;34m\"shell\"\u001b[0m\u001b[1;33m]\u001b[0m\u001b[1;33m,\u001b[0m\u001b[1;33m\u001b[0m\u001b[1;33m\u001b[0m\u001b[0m\n",
      "\u001b[1;32mC:\\ProgramData\\Anaconda3\\lib\\site-packages\\ipykernel\\kernelbase.py\u001b[0m in \u001b[0;36m_input_request\u001b[1;34m(self, prompt, ident, parent, password)\u001b[0m\n\u001b[0;32m   1049\u001b[0m             \u001b[1;32mexcept\u001b[0m \u001b[0mKeyboardInterrupt\u001b[0m\u001b[1;33m:\u001b[0m\u001b[1;33m\u001b[0m\u001b[1;33m\u001b[0m\u001b[0m\n\u001b[0;32m   1050\u001b[0m                 \u001b[1;31m# re-raise KeyboardInterrupt, to truncate traceback\u001b[0m\u001b[1;33m\u001b[0m\u001b[1;33m\u001b[0m\u001b[0m\n\u001b[1;32m-> 1051\u001b[1;33m                 \u001b[1;32mraise\u001b[0m \u001b[0mKeyboardInterrupt\u001b[0m\u001b[1;33m(\u001b[0m\u001b[1;34m\"Interrupted by user\"\u001b[0m\u001b[1;33m)\u001b[0m \u001b[1;32mfrom\u001b[0m \u001b[1;32mNone\u001b[0m\u001b[1;33m\u001b[0m\u001b[1;33m\u001b[0m\u001b[0m\n\u001b[0m\u001b[0;32m   1052\u001b[0m             \u001b[1;32mexcept\u001b[0m \u001b[0mException\u001b[0m\u001b[1;33m:\u001b[0m\u001b[1;33m\u001b[0m\u001b[1;33m\u001b[0m\u001b[0m\n\u001b[0;32m   1053\u001b[0m                 \u001b[0mself\u001b[0m\u001b[1;33m.\u001b[0m\u001b[0mlog\u001b[0m\u001b[1;33m.\u001b[0m\u001b[0mwarning\u001b[0m\u001b[1;33m(\u001b[0m\u001b[1;34m\"Invalid Message:\"\u001b[0m\u001b[1;33m,\u001b[0m \u001b[0mexc_info\u001b[0m\u001b[1;33m=\u001b[0m\u001b[1;32mTrue\u001b[0m\u001b[1;33m)\u001b[0m\u001b[1;33m\u001b[0m\u001b[1;33m\u001b[0m\u001b[0m\n",
      "\u001b[1;31mKeyboardInterrupt\u001b[0m: Interrupted by user"
     ]
    }
   ],
   "source": [
    "if __name__ == '__main__':\n",
    "    students = []\n",
    "    with open(\"MOCK_DATA.csv\") as mockdata:\n",
    "        reader = csv.reader(mockdata, delimiter=',')\n",
    "        next(reader)\n",
    "        for row in reader:\n",
    "            students.append(Student(row[0], row[1], row[2], row[3], row[4]))\n",
    "            \n",
    "    def sort_student():\n",
    "        return []\n",
    "    \n",
    "    func_dict={1:sort_student, }\n",
    "    \n",
    "    while True:\n",
    "        print(\"\\t\\t\\t\\tMy Dummy School\")\n",
    "        print(\"Options\")\n",
    "        print(\"1. Add Student\\n2. Delete Student\\n3. Search Student by First Name\\n4. Search Student\\n5. Sort Students\\n6. Exit\")\n",
    "        option = int(input(\"Select an option:\"))\n",
    "        if option == 6:\n",
    "            break\n",
    "        else:\n",
    "            func_dict.get(option)()\n",
    "        "
   ]
  },
  {
   "cell_type": "code",
   "execution_count": null,
   "id": "89b40b3c",
   "metadata": {
    "pycharm": {
     "name": "#%%\n"
    }
   },
   "outputs": [],
   "source": []
  }
 ],
 "metadata": {
  "kernelspec": {
   "display_name": "Python 3 (ipykernel)",
   "language": "python",
   "name": "python3"
  },
  "language_info": {
   "codemirror_mode": {
    "name": "ipython",
    "version": 3
   },
   "file_extension": ".py",
   "mimetype": "text/x-python",
   "name": "python",
   "nbconvert_exporter": "python",
   "pygments_lexer": "ipython3",
   "version": "3.9.7"
  }
 },
 "nbformat": 4,
 "nbformat_minor": 5
}

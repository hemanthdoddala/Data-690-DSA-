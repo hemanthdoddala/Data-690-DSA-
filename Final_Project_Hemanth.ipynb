{
 "cells": [
  {
   "cell_type": "markdown",
   "id": "41dce970",
   "metadata": {},
   "source": [
    "<h3 style=\"text-align:center\">Data-690(Data Structures and Algorithms): Final Project</h3>\n",
    "<h3 style=\"text-align:center;color:red\">School Management System</h3>\n",
    "<br>\n",
    "<div style=\"text-align:center\">\n",
    "    <table style=\"text-align:center\">\n",
    "        <thead>\n",
    "            <tr>\n",
    "                <td><b>Name</b></td>\n",
    "                <td><b>Campus Id</b></td>\n",
    "            </tr>\n",
    "        </thead>\n",
    "        <tr>\n",
    "            <td>Hemanth</td>\n",
    "            <td>TK76375</td>\n",
    "        </tr>\n",
    "    </table>\n",
    "</div>"
   ]
  },
  {
   "cell_type": "markdown",
   "id": "063ccfea",
   "metadata": {},
   "source": [
    "<h3>Summary</h3>\n",
    "Pick a project topic of your choice, provide explanation for the design (5 page PPT slide deck, plus 5 min video presentation) with the implementation using a Jupyter notebook that meets the following objectives. \n",
    "<h3>Objectives:</h3>\n",
    "<ul>\n",
    "    <li>Demonstrate your understanding of Object Oriented Programming (OOP)</li>\n",
    "    <li>Demonstrate your ability to leverage best performing searching and sorting techniques. </li>\n",
    "    <li>Explain the computational complexity of each searching and sorting implemented.</li>\n",
    "    <li>Do not use built-in Python sorting and searching algorithms.</li>\n",
    "    <li>Exception handling and testing</li>\n",
    "</ul>\n",
    "<h3>Further Instructions:</h3>\n",
    "<ul>\n",
    "    <li>You cannot use Pandas, NumPy, or any other non-standard Python libraries.</li>\n",
    "    <li>You cannot copy/use other’s work.</li>\n",
    "    <li>You don’t need to use a database.</li>\n",
    "    <li>You don’t need to implement an UI.</li>\n",
    "    <li>You don’t need to create a web application.</li>\n",
    "    <li>You need to include and run test cases</li>\n",
    "    <li>You need to demonstrate the working of your code.</li>\n",
    "    <li>The code will be submitted as a Jupyter notebook via Blackboard.</li>\n",
    "    <li>Your submitted code must be without any error and each cell must have run sequentially.</li>\n",
    "    <li>The video recording of the presentation must show your face.</li>\n",
    "</ul>"
   ]
  },
  {
   "cell_type": "markdown",
   "id": "a35e4250",
   "metadata": {},
   "source": [
    "<h4>Imports</h4>"
   ]
  },
  {
   "cell_type": "code",
   "execution_count": 1,
   "id": "87e3b886",
   "metadata": {
    "pycharm": {
     "name": "#%%\n"
    }
   },
   "outputs": [],
   "source": [
    "# Imports\n",
    "import csv\n",
    "import random"
   ]
  },
  {
   "cell_type": "markdown",
   "id": "5c83a175",
   "metadata": {},
   "source": [
    "<h4>Code</h4>"
   ]
  },
  {
   "cell_type": "code",
   "execution_count": 2,
   "id": "ac02e77d",
   "metadata": {},
   "outputs": [],
   "source": [
    "# base class for Student, teacher and head teacher\n",
    "class Person:\n",
    "    \n",
    "    # constructor--> initializing first_name, last_name, and gender\n",
    "    def __init__(self, first_name, last_name, gender):\n",
    "        self.first_name = first_name\n",
    "        self.last_name = last_name\n",
    "        self.gender = gender\n",
    "    \n",
    "    # overriding str method\n",
    "    def __str__(self):\n",
    "        return f'First Name: {self.first_name}  Last Name: {self.last_name}'\n",
    "    \n",
    "    # overriding object class repr method\n",
    "    def __repr__(self):\n",
    "        return f'First Name: {self.first_name}  Last Name: {self.last_name}'"
   ]
  },
  {
   "cell_type": "code",
   "execution_count": 3,
   "id": "b22d5458",
   "metadata": {},
   "outputs": [],
   "source": [
    "# Student class inheriting person class\n",
    "class Student(Person):\n",
    "    \n",
    "    # constructor --> initializing first name, last name, roll no, gender and class of the student\n",
    "    def __init__(self, first_name, last_name, roll_no, gender, clss):\n",
    "        super().__init__(first_name, last_name, gender)\n",
    "        self.roll_no = roll_no\n",
    "        self.clss = clss\n",
    "        \n",
    "    # repr method is overriden\n",
    "    def __repr__(self):\n",
    "        return f'First Name:{self.first_name}  Last Name: {self.last_name}  StudentId No: {self.roll_no}'"
   ]
  },
  {
   "cell_type": "code",
   "execution_count": 4,
   "id": "1b0d7f00",
   "metadata": {},
   "outputs": [],
   "source": [
    "# Custom Exception Class\n",
    "class StudentNotFoundException(Exception):\n",
    "    def __init__(self, message=\"Student not found\"):\n",
    "        pass\n",
    "\n",
    "class StudentAlreadyExists(Exception):\n",
    "    def __init__(self, message=\"Student is already added to school\"):\n",
    "        pass"
   ]
  },
  {
   "cell_type": "code",
   "execution_count": 28,
   "id": "97810503",
   "metadata": {},
   "outputs": [],
   "source": [
    "class School:\n",
    "    \n",
    "    def __init__(self, name, students=None, teachers=None):\n",
    "        self.school_name = name\n",
    "        self.students = students\n",
    "        self.teachers = teachers\n",
    "        self.sorted_students_by_id=False\n",
    "    \n",
    "    # linear search\n",
    "    def search_student_by_first_name(self, first_name):\n",
    "        \"\"\"\n",
    "        This method is used to find the student based on the first_name.\n",
    "        uses linear search algorithm to find the student using first name\n",
    "        Accepts one parameter first_name\n",
    "        return student if found else raises student not found exception.\n",
    "        \"\"\"\n",
    "        for i in range(len(self.students)):\n",
    "            if self.students[i].first_name == first_name:\n",
    "                return self.students[i]\n",
    "        raise StudentNotFoundException(f\"Student with first name {first_name} not found\")\n",
    "    \n",
    "    # binary search\n",
    "    def search_student_by_id(self, student_id, first_pos, last_pos):\n",
    "        \"\"\"\n",
    "        this method finds the student by id\n",
    "        accepts 3 parameters, high, low and student id \n",
    "        returns student if found else raise student not found exception\n",
    "        \"\"\"\n",
    "        if self.sorted_students_by_id == False:\n",
    "            self.sort_students_by_id(0, len(self.students) - 1)\n",
    "            \n",
    "        if last_pos>=first_pos:\n",
    "            mid = (last_pos + first_pos) // 2\n",
    "            if self.students[mid].roll_no == student_id:\n",
    "                return self.students[mid]\n",
    "            elif self.students[mid].roll_no > student_id:\n",
    "                return self.search_student_by_id(student_id, first_pos, mid-1)\n",
    "            else:\n",
    "                return self.search_student_by_id(student_id, mid+1, last_pos)\n",
    "        else:\n",
    "            raise StudentNotFoundException(f\"Student with student Id {student_id} not found\")\n",
    "        \n",
    "    \n",
    "    # quick sort\n",
    "    def sort_students_by_id(self, low, high):\n",
    "        def partition(students, low, high):\n",
    "            pivot = self.students[high]\n",
    "            i = low - 1\n",
    "            for j in range(low, high):\n",
    "                if self.students[j].roll_no <= pivot.roll_no:\n",
    "                    i = i + 1\n",
    "                    self.students[i], self.students[j] = self.students[j], self.students[i]\n",
    "\n",
    "            self.students[i + 1], self.students[high] = self.students[high], self.students[i + 1]\n",
    "            return i + 1\n",
    "\n",
    "        if low < high: \n",
    "            pivot_element = partition(self.students, low, high)\n",
    "            self.sort_students_by_id(low, pivot_element - 1)\n",
    "            self.sort_students_by_id(pivot_element + 1, high)\n",
    "        self.sorted_students_by_id = True\n",
    "        return self.students\n",
    "\n",
    "    # Bubble Sort\n",
    "    def sort_students_by_first_name(self):\n",
    "        n = len(self.students)\n",
    "        swapped = False\n",
    "        for i in range(n-1):\n",
    "            for j in range(0, n-i-1):\n",
    "                if self.students[j].first_name > self.students[j + 1].first_name:\n",
    "                    swapped = True\n",
    "                    self.students[j], self.students[j + 1] = self.students[j + 1], self.students[j]\n",
    "            if not swapped:\n",
    "                return self.students\n",
    "        return self.students\n",
    "\n",
    "    # Selection Sort\n",
    "    def sort_students_by_last_name(self):\n",
    "        for i in range(len(self.students)):\n",
    "            min = self.students[i].last_name\n",
    "            for j in range(i+1, len(self.students)):\n",
    "                if self.students[j].last_name < min:\n",
    "                    min = self.students[j].last_name\n",
    "                    self.students[i], self.students[j] = self.students[j], self.students[i]\n",
    "        return self.students \n",
    "    \n",
    "    def add_student(self, student):\n",
    "        if self.students is None:\n",
    "            self.students = []\n",
    "        self.students.append(student)\n",
    "    \n",
    "    def add_students(self, students):\n",
    "        if self.students is None:\n",
    "            self.students = []\n",
    "        self.students.extend(students)\n",
    "        \n",
    "    def __repr__(self):\n",
    "        return f'School Name:{self.school_name}\\nTotal Students:{len(self.students)}\\nTotal Teachers: {len(self.teachers)}'\n",
    "    \n",
    "    def __str__(self):\n",
    "        return f'School Name:{self.school_name}\\nTotal Students:{len(self.students)}\\nTotal Teachers: {len(self.teachers)}'\n",
    "    "
   ]
  },
  {
   "cell_type": "markdown",
   "id": "3b338217",
   "metadata": {},
   "source": [
    "<h4>Test Code</h4>"
   ]
  },
  {
   "cell_type": "code",
   "execution_count": 29,
   "id": "b70c7073",
   "metadata": {},
   "outputs": [],
   "source": [
    "test_school = School(\"Test School\")"
   ]
  },
  {
   "cell_type": "code",
   "execution_count": 30,
   "id": "6a3e7292",
   "metadata": {},
   "outputs": [],
   "source": [
    "test_school.students"
   ]
  },
  {
   "cell_type": "code",
   "execution_count": 32,
   "id": "1d310477",
   "metadata": {},
   "outputs": [
    {
     "data": {
      "text/plain": [
       "First Name:Samantha  Last Name: Sam  StudentId No: 4"
      ]
     },
     "execution_count": 32,
     "metadata": {},
     "output_type": "execute_result"
    }
   ],
   "source": [
    "test_school.search_student_by_id(4, 0, len(test_school.students)-1)"
   ]
  },
  {
   "cell_type": "code",
   "execution_count": 31,
   "id": "71224f8d",
   "metadata": {},
   "outputs": [
    {
     "name": "stdout",
     "output_type": "stream",
     "text": [
      "All test cases are successful\n"
     ]
    }
   ],
   "source": [
    "def testAddStudent():\n",
    "    s1 = Student(\"Steve\", \"Jobs\", 1, \"Male\", 5)\n",
    "    test_school.add_student(s1)\n",
    "    return len(test_school.students) == 1\n",
    "\n",
    "def testAddStudents():\n",
    "    sdts = [Student(\"Mark\", \"Zucker\", 2, \"Male\", 8), Student(\"Samantha\", \"Sam\", 4, \"Female\", 9), Student(\"Regina\", \"John\", 3, \"Female\", 9)]\n",
    "    test_school.add_students(sdts)\n",
    "    return len(test_school.students) == 4\n",
    "\n",
    "def testSearchStudentByFirstnameWithMatch():\n",
    "    match_found = test_school.search_student_by_first_name(\"Samantha\")\n",
    "    return match_found.first_name == \"Samantha\"\n",
    "\n",
    "\n",
    "def testSearchStudentByFirstnameWithoutMatch():\n",
    "    try:\n",
    "        test_school.search_student_by_first_name(\"Test\")\n",
    "    except StudentNotFoundException:\n",
    "        return True\n",
    "    \n",
    "\n",
    "def testSearchStudentByIdWithMatch():\n",
    "    match_found = test_school.search_student_by_id(4, 0, len(test_school.students)-1)\n",
    "    return match_found.first_name == \"Samantha\" \n",
    "\n",
    "def testSearchStudentByIdWithoutMatch():\n",
    "    pass\n",
    "\n",
    "def testSortStudentsById():\n",
    "    pass\n",
    "\n",
    "def testSortStudentsByFirstname():\n",
    "    pass\n",
    "\n",
    "def testSortStudentsByLastname():\n",
    "    pass\n",
    "\n",
    "try:\n",
    "    assert testAddStudent() == True\n",
    "    assert testAddStudents() == True\n",
    "    assert testSearchStudentByFirstnameWithMatch() == True\n",
    "    assert testSearchStudentByFirstnameWithoutMatch() == True\n",
    "    assert testSearchStudentByIdWithMatch() == True\n",
    "except:\n",
    "    print(\"Test cases failed\")\n",
    "else:\n",
    "    print(\"All test cases are successful\")\n",
    "finally:\n",
    "    pass"
   ]
  },
  {
   "cell_type": "code",
   "execution_count": null,
   "id": "6bc36d48",
   "metadata": {},
   "outputs": [],
   "source": []
  },
  {
   "cell_type": "code",
   "execution_count": null,
   "id": "88d1bd70",
   "metadata": {},
   "outputs": [],
   "source": [
    "sort_students_by_id(students, 0, len(students)-1)"
   ]
  },
  {
   "cell_type": "code",
   "execution_count": null,
   "id": "abf148dc",
   "metadata": {},
   "outputs": [],
   "source": [
    "search_student_by_id(students, 1387, len(students)-1, 0)"
   ]
  },
  {
   "cell_type": "code",
   "execution_count": null,
   "id": "a39b6a43",
   "metadata": {},
   "outputs": [],
   "source": [
    "if __name__ == '__main__':\n",
    "    students = []\n",
    "    with open(\"test_data.csv\") as mockdata:\n",
    "        reader = csv.reader(mockdata, delimiter=',')\n",
    "        next(reader)\n",
    "        for row in reader:\n",
    "            students.append(Student(row[0], row[1], int(row[2]), row[3], row[4]))\n",
    "            \n",
    "#     def sort_student():\n",
    "#         return \"sort student\"\n",
    "    \n",
    "#     func_dict={5:sort_student, }\n",
    "    \n",
    "#     while True:\n",
    "#         print(\"\\t\\t\\t\\tMy Dummy School\")\n",
    "#         print(\"Options\")\n",
    "#         print(\"1. Add Student\\n2. Delete Student\\n3. Search Student by First Name\\n4. Search Student\\n5. Sort Students\\n6. Exit\")\n",
    "#         option = int(input(\"Select an option:\"))\n",
    "#         if option == 6:\n",
    "#             break\n",
    "#         else:\n",
    "#             func_dict.get(option)()\n",
    "        "
   ]
  },
  {
   "cell_type": "code",
   "execution_count": null,
   "id": "40d42671",
   "metadata": {},
   "outputs": [],
   "source": [
    "school = School(\"My School\", students)"
   ]
  },
  {
   "cell_type": "code",
   "execution_count": null,
   "id": "6d6679fe",
   "metadata": {},
   "outputs": [],
   "source": [
    "school.students"
   ]
  }
 ],
 "metadata": {
  "kernelspec": {
   "display_name": "Python 3 (ipykernel)",
   "language": "python",
   "name": "python3"
  },
  "language_info": {
   "codemirror_mode": {
    "name": "ipython",
    "version": 3
   },
   "file_extension": ".py",
   "mimetype": "text/x-python",
   "name": "python",
   "nbconvert_exporter": "python",
   "pygments_lexer": "ipython3",
   "version": "3.9.7"
  }
 },
 "nbformat": 4,
 "nbformat_minor": 5
}

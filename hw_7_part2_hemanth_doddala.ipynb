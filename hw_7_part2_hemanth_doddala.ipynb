{
 "cells": [
  {
   "cell_type": "markdown",
   "id": "7e951f78",
   "metadata": {},
   "source": [
    "<h3>Sorting Algorithms</h3>\n",
    "<ol>\n",
    "    <li>Selection Sort</li>\n",
    "    <li>Bubble Sort</li>\n",
    "</ol>"
   ]
  },
  {
   "cell_type": "markdown",
   "id": "51d3e0f9",
   "metadata": {},
   "source": [
    "<h5>imports</h5>"
   ]
  },
  {
   "cell_type": "code",
   "execution_count": 1,
   "id": "45ce3e5b",
   "metadata": {},
   "outputs": [],
   "source": [
    "import random"
   ]
  },
  {
   "cell_type": "markdown",
   "id": "26460432",
   "metadata": {},
   "source": [
    "<h4>\n",
    "    Selection Sort\n",
    "</h4>"
   ]
  },
  {
   "cell_type": "code",
   "execution_count": 2,
   "id": "85e624ba",
   "metadata": {},
   "outputs": [],
   "source": [
    "def selection_sort(lst):\n",
    "    for i in range(len(lst)):\n",
    "        min = lst[i]\n",
    "        for j in range(i+1, len(lst)):\n",
    "            if lst[j] < min:\n",
    "                min = lst[j]\n",
    "                lst[i] = lst[i] + lst[j]\n",
    "                lst[j] = lst[i]-lst[j]\n",
    "                lst[i] = lst[i]-lst[j]\n",
    "        print(\"List in Each Pass:\", lst)"
   ]
  },
  {
   "cell_type": "markdown",
   "id": "a757018c",
   "metadata": {},
   "source": [
    "<h5>Selection sort function call</h5>"
   ]
  },
  {
   "cell_type": "code",
   "execution_count": 3,
   "id": "3a4bf5a7",
   "metadata": {},
   "outputs": [
    {
     "name": "stdout",
     "output_type": "stream",
     "text": [
      "list before sort: [3, 9, 6, 4, 1, 0, 2, 8, 5, 7] \n",
      " \n",
      "\n"
     ]
    }
   ],
   "source": [
    "# Generate List of Random Numbers\n",
    "lst1 = random.sample(range(0, 10), 10)\n",
    "print(\"list before sort:\", lst1, \"\\n\", \"\\n\")"
   ]
  },
  {
   "cell_type": "code",
   "execution_count": 4,
   "id": "465cb56c",
   "metadata": {},
   "outputs": [
    {
     "name": "stdout",
     "output_type": "stream",
     "text": [
      "List in Each Pass: [0, 9, 6, 4, 3, 1, 2, 8, 5, 7]\n",
      "List in Each Pass: [0, 1, 9, 6, 4, 3, 2, 8, 5, 7]\n",
      "List in Each Pass: [0, 1, 2, 9, 6, 4, 3, 8, 5, 7]\n",
      "List in Each Pass: [0, 1, 2, 3, 9, 6, 4, 8, 5, 7]\n",
      "List in Each Pass: [0, 1, 2, 3, 4, 9, 6, 8, 5, 7]\n",
      "List in Each Pass: [0, 1, 2, 3, 4, 5, 9, 8, 6, 7]\n",
      "List in Each Pass: [0, 1, 2, 3, 4, 5, 6, 9, 8, 7]\n",
      "List in Each Pass: [0, 1, 2, 3, 4, 5, 6, 7, 9, 8]\n",
      "List in Each Pass: [0, 1, 2, 3, 4, 5, 6, 7, 8, 9]\n",
      "List in Each Pass: [0, 1, 2, 3, 4, 5, 6, 7, 8, 9]\n",
      "Wall time: 4.99 ms\n"
     ]
    }
   ],
   "source": [
    "%%time\n",
    "selection_sort(lst1)"
   ]
  },
  {
   "cell_type": "code",
   "execution_count": 5,
   "id": "a3936852",
   "metadata": {},
   "outputs": [
    {
     "name": "stdout",
     "output_type": "stream",
     "text": [
      "sorted list: [0, 1, 2, 3, 4, 5, 6, 7, 8, 9]\n"
     ]
    }
   ],
   "source": [
    "print(\"sorted list:\", lst1)"
   ]
  },
  {
   "cell_type": "markdown",
   "id": "7a78bc02",
   "metadata": {},
   "source": [
    "<h5>Bubble Sort</h5>"
   ]
  },
  {
   "cell_type": "code",
   "execution_count": 6,
   "id": "ce2ffa49",
   "metadata": {},
   "outputs": [],
   "source": [
    "def bubble_sort(lst):\n",
    "    for i in range(len(lst)):\n",
    "        for j in range(len(lst)-1):\n",
    "            if lst[j] > lst[j+1]:\n",
    "                lst[j] = lst[j]+lst[j+1]\n",
    "                lst[j+1] = lst[j]-lst[j+1]\n",
    "                lst[j] = lst[j]-lst[j+1]\n",
    "        print(\"lis after each iteration:\", lst)"
   ]
  },
  {
   "cell_type": "markdown",
   "id": "990735de",
   "metadata": {},
   "source": [
    "<h5>Bubble sort function call</h5>"
   ]
  },
  {
   "cell_type": "code",
   "execution_count": 7,
   "id": "26e609cf",
   "metadata": {},
   "outputs": [
    {
     "name": "stdout",
     "output_type": "stream",
     "text": [
      "list before sort: [4, 9, 8, 2, 7, 6, 0, 3, 1, 5] \n",
      " \n",
      "\n"
     ]
    }
   ],
   "source": [
    "# Generate List of Random Numbers\n",
    "lst2 = random.sample(range(0, 10), 10)\n",
    "print(\"list before sort:\", lst2, \"\\n\", \"\\n\")"
   ]
  },
  {
   "cell_type": "code",
   "execution_count": 8,
   "id": "aa80d0ef",
   "metadata": {},
   "outputs": [
    {
     "name": "stdout",
     "output_type": "stream",
     "text": [
      "lis after each iteration: [4, 8, 2, 7, 6, 0, 3, 1, 5, 9]\n",
      "lis after each iteration: [4, 2, 7, 6, 0, 3, 1, 5, 8, 9]\n",
      "lis after each iteration: [2, 4, 6, 0, 3, 1, 5, 7, 8, 9]\n",
      "lis after each iteration: [2, 4, 0, 3, 1, 5, 6, 7, 8, 9]\n",
      "lis after each iteration: [2, 0, 3, 1, 4, 5, 6, 7, 8, 9]\n",
      "lis after each iteration: [0, 2, 1, 3, 4, 5, 6, 7, 8, 9]\n",
      "lis after each iteration: [0, 1, 2, 3, 4, 5, 6, 7, 8, 9]\n",
      "lis after each iteration: [0, 1, 2, 3, 4, 5, 6, 7, 8, 9]\n",
      "lis after each iteration: [0, 1, 2, 3, 4, 5, 6, 7, 8, 9]\n",
      "lis after each iteration: [0, 1, 2, 3, 4, 5, 6, 7, 8, 9]\n"
     ]
    }
   ],
   "source": [
    "bubble_sort(lst2)"
   ]
  },
  {
   "cell_type": "code",
   "execution_count": 9,
   "id": "3e704467",
   "metadata": {},
   "outputs": [
    {
     "name": "stdout",
     "output_type": "stream",
     "text": [
      "List after Sorting: [0, 1, 2, 3, 4, 5, 6, 7, 8, 9]\n"
     ]
    }
   ],
   "source": [
    "print(\"List after Sorting:\", lst2)"
   ]
  },
  {
   "cell_type": "markdown",
   "id": "b4d9b349",
   "metadata": {},
   "source": [
    "<h3>Implementation</h3>"
   ]
  },
  {
   "cell_type": "code",
   "execution_count": 32,
   "id": "788aa11a",
   "metadata": {},
   "outputs": [
    {
     "name": "stdout",
     "output_type": "stream",
     "text": [
      "[('John', 4), ('Heman', 0), ('Superman', 1), ('Spiderman', 6), ('Flash', 7), ('Ironman', 8), ('Hulk', 2), ('Blackwidow', 5), ('Thanos', 9), ('Batman', 3)]\n"
     ]
    }
   ],
   "source": [
    "class Student:\n",
    "    def __init__(self, roll_no, name):\n",
    "        self.rollno = roll_no\n",
    "        self.name = name\n",
    "    def __repr__(self):\n",
    "        return str((self.name, self.rollno))\n",
    "        \n",
    "\n",
    "students=[]\n",
    "names=[\"John\", \"Heman\", \"Superman\", \"Spiderman\", \"Flash\", \"Ironman\", \"Hulk\", \"Blackwidow\", \"Thanos\", \"Batman\"]\n",
    "for num, name in zip(random.sample(range(0, 10), 10), names):\n",
    "    students.append(Student(num, name))\n",
    "print(students)\n",
    "\n",
    "def bubble_sort_students(students):\n",
    "    for i in range(len(students)):\n",
    "        for j in range(len(students)-1):\n",
    "            if students[j].rollno > students[j+1].rollno:\n",
    "                students[j], students[j+1] = students[j+1], students[j]\n"
   ]
  },
  {
   "cell_type": "code",
   "execution_count": 33,
   "id": "d6e0a5d8",
   "metadata": {},
   "outputs": [],
   "source": [
    "bubble_sort_students(students)"
   ]
  },
  {
   "cell_type": "code",
   "execution_count": 34,
   "id": "8b118397",
   "metadata": {},
   "outputs": [
    {
     "name": "stdout",
     "output_type": "stream",
     "text": [
      "Sorted Student List after sorting as per roll no: [('Heman', 0), ('Superman', 1), ('Hulk', 2), ('Batman', 3), ('John', 4), ('Blackwidow', 5), ('Spiderman', 6), ('Flash', 7), ('Ironman', 8), ('Thanos', 9)]\n"
     ]
    }
   ],
   "source": [
    "print(\"Sorted Student List after sorting as per roll no:\", students)"
   ]
  },
  {
   "cell_type": "code",
   "execution_count": null,
   "id": "fa2c9fc3",
   "metadata": {},
   "outputs": [],
   "source": []
  }
 ],
 "metadata": {
  "kernelspec": {
   "display_name": "Python 3 (ipykernel)",
   "language": "python",
   "name": "python3"
  },
  "language_info": {
   "codemirror_mode": {
    "name": "ipython",
    "version": 3
   },
   "file_extension": ".py",
   "mimetype": "text/x-python",
   "name": "python",
   "nbconvert_exporter": "python",
   "pygments_lexer": "ipython3",
   "version": "3.9.13"
  }
 },
 "nbformat": 4,
 "nbformat_minor": 5
}

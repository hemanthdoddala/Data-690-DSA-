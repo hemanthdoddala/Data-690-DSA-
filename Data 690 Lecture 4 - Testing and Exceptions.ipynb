{
 "cells": [
  {
   "cell_type": "markdown",
   "metadata": {
    "colab_type": "text",
    "id": "RJI69f5I8kqh"
   },
   "source": [
    "# Testing\n",
    "## Input Partitioning"
   ]
  },
  {
   "cell_type": "code",
   "execution_count": 1,
   "metadata": {
    "colab": {},
    "colab_type": "code",
    "id": "FrQpnTq98Ft3"
   },
   "outputs": [],
   "source": [
    "def isBigger(x,y):\n",
    "  \"\"\" x and y parameters are assumed to be integer values\n",
    "    returns True if x is greater than y, False otherwise\n",
    "  \"\"\"\n",
    "  return x > y"
   ]
  },
  {
   "cell_type": "markdown",
   "metadata": {
    "colab_type": "text",
    "id": "tNaoOxse8bQp"
   },
   "source": [
    "Possible input subsets\n",
    "\n",
    "| x Input             | y Input           | Condition | Example| Expected Result |\n",
    "|:-------:|:-------:|:----:|:------:|:-----:|\n",
    "| Positive | Positive | x != y and x < y  | x=2, y=5    | False |\n",
    "| Positive | Positive | x != y and x > y  | x=5, y=2    | True |\n",
    "| Positive | Positive | x = y             | x=2, y=2    | False |\n",
    "| Positive | Negative |                   | x=2, y=-5   | True  | \n",
    "| Negative | Positive |                   | x=-5, y=2   | False |\n",
    "| Negative | Negative | x != y and x < y  | x=-5, y=-2  | False  |           \n",
    "| Negative | Negative | x != y and x > y  | x=-2, y=-5  | True |              \n",
    "| Negative | Negative | x = y             | x=-2, y=-2  | False |              \n",
    "| 0        | 0        |                   |             | False |\n",
    "| 0        | Positive |                   | x=0, y=2    | False |\n",
    "| 0        | Negative |                   | X=0, y=-2   | True  |\n",
    "| Positive | 0        |                   | x=2, y=0    | True  |\n",
    "| Negative | 0        |                   | x=-2, y=0   | False |"
   ]
  },
  {
   "cell_type": "markdown",
   "metadata": {
    "colab_type": "text",
    "id": "5o2b0W6iehOv"
   },
   "source": [
    "Using Python's [assert](https://wiki.python.org/moin/UsingAssertionsEffectively) statment"
   ]
  },
  {
   "cell_type": "code",
   "execution_count": 3,
   "metadata": {
    "colab": {},
    "colab_type": "code",
    "id": "GlyPUsk58U46"
   },
   "outputs": [
    {
     "name": "stdout",
     "output_type": "stream",
     "text": [
      "Test failed\n"
     ]
    }
   ],
   "source": [
    "try: \n",
    "  assert isBigger(2, 5) == True\n",
    "#   assert isBigger(5, 2) == True\n",
    "#   assert isBigger(2, 2) == False\n",
    "#   assert isBigger(2, -5) == True\n",
    "#   assert isBigger(-5, 2) == False\n",
    "#   assert isBigger(-5, -2) == False\n",
    "#   assert isBigger(-2, -5) == True\n",
    "#   assert isBigger(-2, -2) == False\n",
    "#   assert isBigger(0, 0) == False\n",
    "#   assert isBigger(0, 2) == False\n",
    "#   assert isBigger(0, -2) == True\n",
    "#   assert isBigger(2, 0) == True\n",
    "#   assert isBigger(-2, 0) == False\n",
    "except:\n",
    "  print(\"Test failed\")\n",
    "else:\n",
    "  print(\"Test succeeded\")"
   ]
  },
  {
   "cell_type": "markdown",
   "metadata": {
    "colab_type": "text",
    "id": "Y4CD0SHkz8CG"
   },
   "source": [
    "## Block-Box Testing"
   ]
  },
  {
   "cell_type": "markdown",
   "metadata": {
    "colab_type": "text",
    "id": "BcQO_5QgFZGO"
   },
   "source": [
    "### Specification"
   ]
  },
  {
   "cell_type": "code",
   "execution_count": null,
   "metadata": {
    "colab": {},
    "colab_type": "code",
    "id": "r5Dgu_Th0AMA"
   },
   "outputs": [],
   "source": [
    "def sqrt(x, epsilon):\n",
    "  \"\"\"Assumes x, epsilon floats\n",
    "      x >= 0\n",
    "      empsilon > 0\n",
    "    Returns result such that \n",
    "      x-epsilon <= result*result <= x\n",
    "      +epsilon\"\"\""
   ]
  },
  {
   "cell_type": "markdown",
   "metadata": {
    "colab_type": "text",
    "id": "M7BhmiPsFVMT"
   },
   "source": [
    "### Aliasing"
   ]
  },
  {
   "cell_type": "code",
   "execution_count": null,
   "metadata": {
    "colab": {},
    "colab_type": "code",
    "id": "ywutd9XIFcMW"
   },
   "outputs": [],
   "source": [
    "def copy(L1, L2):\n",
    "  \"\"\"Assumes L1, L2 are lists \n",
    "  Mutates L2 to be a copy of L1\"\"\"\n",
    "\n",
    "  while len(L2) > 0: #remove all elements from L2\n",
    "    L2.pop() #remove last element of L2\n",
    "\n",
    "  for e in L1: #append L1's elements to initially empty L2\n",
    "    L2.append(e)"
   ]
  },
  {
   "cell_type": "code",
   "execution_count": null,
   "metadata": {
    "colab": {},
    "colab_type": "code",
    "id": "CW6R6ADN0Z2g"
   },
   "outputs": [],
   "source": [
    "# This will work\n",
    "L1 = [1,2,3]\n",
    "L2 = []\n",
    "copy(L1, L2)\n",
    "L2"
   ]
  },
  {
   "cell_type": "code",
   "execution_count": null,
   "metadata": {
    "colab": {},
    "colab_type": "code",
    "id": "-Edn3cRWGNR0"
   },
   "outputs": [],
   "source": [
    "# This won't\n",
    "L1 = [1,2,3]\n",
    "L2 = L1\n",
    "copy(L1, L2)\n",
    "L2"
   ]
  },
  {
   "cell_type": "markdown",
   "metadata": {
    "colab_type": "text",
    "id": "cyfU0DEJGtGL"
   },
   "source": [
    "#Debugging"
   ]
  },
  {
   "cell_type": "code",
   "execution_count": null,
   "metadata": {
    "colab": {},
    "colab_type": "code",
    "id": "va-Oi3X-GYr_"
   },
   "outputs": [],
   "source": [
    "def isPal(x):\n",
    "  \"\"\"Assumes x is a list\n",
    "    Returns True if the list is a palindrome; False otherwise\"\"\"\n",
    "  temp = x\n",
    "  temp.reverse\n",
    "  if temp == x:\n",
    "    return True\n",
    "  else: \n",
    "    return False\n",
    "\n",
    "def silly(n):\n",
    "  \"\"\"Assumes n is an int > 0\n",
    "    Gets n inputs from user\n",
    "    Prints 'Yes' if the sequence of inputs forms a palindrome;\n",
    "      'No' Otherwise\"\"\"\n",
    "  for i in range(n):\n",
    "    result = []\n",
    "    elem = input(\"Enter element: \")\n",
    "    result.append(elem)\n",
    "  if isPal(result):\n",
    "    print('Yes')\n",
    "  else:\n",
    "    print('No')"
   ]
  },
  {
   "cell_type": "code",
   "execution_count": null,
   "metadata": {
    "colab": {},
    "colab_type": "code",
    "id": "YCsvYS8bH8-B"
   },
   "outputs": [],
   "source": [
    "silly(6)"
   ]
  },
  {
   "cell_type": "markdown",
   "metadata": {
    "colab_type": "text",
    "id": "suWQbq7ZvW4v"
   },
   "source": [
    "# Exception\n",
    "Follow along the sample and note how the execution flow of the the code changes. "
   ]
  },
  {
   "cell_type": "code",
   "execution_count": null,
   "metadata": {
    "colab": {},
    "colab_type": "code",
    "id": "wicZgEhpd6ud"
   },
   "outputs": [],
   "source": [
    "def zeroDiv(n):\n",
    "  print(\"About to cause an error\")\n",
    "  n/0\n",
    "  print(\"This statement is never executed\")\n",
    "  return\n",
    "\n",
    "try:\n",
    "  print(\"In try block\")\n",
    "  # zeroDiv(5)\n",
    "except ZeroDivisionError as zde:\n",
    "  print(\"In ZeroDivisionError exception handler\")  \n",
    "  print(zde)\n",
    "except:\n",
    "  print(\"This is catch-all error handling block\")  \n",
    "else:\n",
    "    try:\n",
    "      print(\"Yes, There can be an exception even in an else block.\")\n",
    "    except:\n",
    "      print(\"This is catch-all error handling block\")\n",
    "    else:\n",
    "      print(\"Although in this instance there was none\")\n",
    "finally:\n",
    "  print(\"This block is executed all the time. Mainly used for resource cleaning\")\n"
   ]
  },
  {
   "cell_type": "markdown",
   "metadata": {
    "colab_type": "text",
    "id": "cVWTv8Lt0IzE"
   },
   "source": [
    "Using Tuple of exceptions"
   ]
  },
  {
   "cell_type": "code",
   "execution_count": null,
   "metadata": {
    "colab": {},
    "colab_type": "code",
    "id": "qWtGyQ_GzSPj"
   },
   "outputs": [],
   "source": [
    "import sys\n",
    "def raiseValueError():\n",
    "  raise ValueError(\"There was a ValueError\")\n",
    "\n",
    "def raiseTypeError():\n",
    "  raise TypeError(\"There was a TypeError\")\n",
    "\n",
    "try:\n",
    "  print(\"In try block\")\n",
    "  raiseValueError();\n",
    "  #raiseTypeError();\n",
    "except (ValueError, TypeError) as e:\n",
    "  except_info = sys.exc_info()\n",
    "  print(\"In exception handler\")  \n",
    "  print(\"Type of exception\", except_info[0])\n",
    "  print(\"-\", except_info[1])"
   ]
  },
  {
   "cell_type": "code",
   "execution_count": null,
   "metadata": {
    "colab": {},
    "colab_type": "code",
    "id": "mxBb-Yw-wGLe"
   },
   "outputs": [],
   "source": []
  }
 ],
 "metadata": {
  "colab": {
   "collapsed_sections": [],
   "name": "Data 690 Lecture 4.ipynb",
   "provenance": []
  },
  "kernelspec": {
   "display_name": "Python 3 (ipykernel)",
   "language": "python",
   "name": "python3"
  },
  "language_info": {
   "codemirror_mode": {
    "name": "ipython",
    "version": 3
   },
   "file_extension": ".py",
   "mimetype": "text/x-python",
   "name": "python",
   "nbconvert_exporter": "python",
   "pygments_lexer": "ipython3",
   "version": "3.9.7"
  }
 },
 "nbformat": 4,
 "nbformat_minor": 1
}
